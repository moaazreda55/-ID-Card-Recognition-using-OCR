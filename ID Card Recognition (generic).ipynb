{
 "cells": [
  {
   "cell_type": "code",
   "execution_count": 1,
   "id": "3401f519",
   "metadata": {},
   "outputs": [
    {
     "name": "stdout",
     "output_type": "stream",
     "text": [
      "Extracted Text:\n",
      "JAMHURI YA MUUNGANO WA TANZANIA\n",
      "KITAMBULISHO CHA TAIFA % 4\n",
      ".° THE UNITED REPUBLIC OF TANZANIA\n",
      "CITIZEN IDENTITY CARD\n",
      "\n",
      "219501007-11101-00001-26\n",
      "\n",
      "JINA LA KWANZA: JAKAYA\n",
      "= First Name\n",
      "\n",
      "LU MAINA YA KAT. MRISHO-\n",
      "OL Middle Name\n",
      "\n",
      "D wa camwso: KIKWETE\n",
      "Last Name\n",
      "\n",
      "JINSI: M\n",
      "Sex\n",
      "\n",
      "MWISHO WA MATUMIZI: 07 FEB 2023\n",
      "Expiry Date\n",
      "\n",
      "\n"
     ]
    }
   ],
   "source": [
    "import cv2\n",
    "import pytesseract\n",
    "\n",
    "\n",
    "pytesseract.pytesseract.tesseract_cmd = r'C:\\Users\\HP\\AppData\\Local\\Tesseract-OCR\\tesseract.exe'\n",
    "\n",
    "\n",
    "def extract_text_from_image(image_path):\n",
    "    \n",
    "    image = cv2.imread(image_path)\n",
    "\n",
    "    if image is None:\n",
    "        print(\"Error: Unable to load the image.\")\n",
    "        return None\n",
    "\n",
    "   \n",
    "    gray = cv2.cvtColor(image, cv2.COLOR_BGR2GRAY)\n",
    "    thresh = cv2.threshold(gray, 0, 255, cv2.THRESH_BINARY + cv2.THRESH_OTSU)[1]\n",
    "\n",
    "   \n",
    "    extracted_text = pytesseract.image_to_string(thresh)\n",
    "\n",
    "    return extracted_text\n",
    "\n",
    "\n",
    "image_path = 'D:/sql/Data set/images/id-3.PNG'  \n",
    "\n",
    "\n",
    "extracted_text = extract_text_from_image(image_path)\n",
    "\n",
    "if extracted_text:\n",
    "    print(\"Extracted Text:\")\n",
    "    print(extracted_text)\n",
    "else:\n",
    "    print(\"Text extraction failed.\")\n"
   ]
  },
  {
   "cell_type": "code",
   "execution_count": null,
   "id": "4abcbb4c",
   "metadata": {},
   "outputs": [],
   "source": []
  }
 ],
 "metadata": {
  "kernelspec": {
   "display_name": "Python 3 (ipykernel)",
   "language": "python",
   "name": "python3"
  },
  "language_info": {
   "codemirror_mode": {
    "name": "ipython",
    "version": 3
   },
   "file_extension": ".py",
   "mimetype": "text/x-python",
   "name": "python",
   "nbconvert_exporter": "python",
   "pygments_lexer": "ipython3",
   "version": "3.11.5"
  }
 },
 "nbformat": 4,
 "nbformat_minor": 5
}
