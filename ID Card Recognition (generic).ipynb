{
 "cells": [
  {
   "cell_type": "code",
   "execution_count": 1,
   "id": "3401f519",
   "metadata": {},
   "outputs": [
    {
     "name": "stdout",
     "output_type": "stream",
     "text": [
      "Extracted Text:\n",
      "JAMHURI YA MUUNGANO WA TANZANIA\n",
      "KITAMBULISHO CHA TAIFA % 4\n",
      ".° THE UNITED REPUBLIC OF TANZANIA\n",
      "CITIZEN IDENTITY CARD\n",
      "\n",
      "219501007-11101-00001-26\n",
      "\n",
      "JINA LA KWANZA: JAKAYA\n",
      "= First Name\n",
      "\n",
      "LU MAINA YA KAT. MRISHO-\n",
      "OL Middle Name\n",
      "\n",
      "D wa camwso: KIKWETE\n",
      "Last Name\n",
      "\n",
      "JINSI: M\n",
      "Sex\n",
      "\n",
      "MWISHO WA MATUMIZI: 07 FEB 2023\n",
      "Expiry Date\n",
      "\n",
      "\n"
     ]
    }
   ],
   "source": [
    "import cv2\n",
    "import pytesseract\n",
    "import pandas as pd\n",
    "import numpy as np\n",
    "from PIL import Image\n",
    "\n",
    "pytesseract.pytesseract.tesseract_cmd = r'C:\\Users\\HP\\AppData\\Local\\Tesseract-OCR\\tesseract.exe'\n",
    "\n",
    "\n",
    "def extract_text_from_image(image_path):\n",
    "    \n",
    "    image = cv2.imread(image_path)\n",
    "\n",
    "    if image is None:\n",
    "        print(\"Error: Unable to load the image.\")\n",
    "        return None\n",
    "\n",
    "   \n",
    "    gray = cv2.cvtColor(image, cv2.COLOR_BGR2GRAY)\n",
    "    thresh = cv2.threshold(gray, 0, 255, cv2.THRESH_BINARY + cv2.THRESH_OTSU)[1]\n",
    "\n",
    "   \n",
    "    extracted_text = pytesseract.image_to_string(thresh)\n",
    "\n",
    "    return extracted_text\n",
    "\n",
    "\n",
    "image_path = 'D:/sql/Data set/images/id-3.PNG'  \n",
    "\n",
    "\n",
    "extracted_text = extract_text_from_image(image_path)\n",
    "\n",
    "if extracted_text:\n",
    "    print(\"Extracted Text:\")\n",
    "    print(extracted_text)\n",
    "else:\n",
    "    print(\"Text extraction failed.\")\n"
   ]
  },
  {
   "cell_type": "code",
   "execution_count": 2,
   "id": "4abcbb4c",
   "metadata": {},
   "outputs": [
    {
     "data": {
      "text/plain": [
       "['JAMHURI YA MUUNGANO WA TANZANIA',\n",
       " 'KITAMBULISHO CHA TAIFA % 4',\n",
       " '.° THE UNITED REPUBLIC OF TANZANIA',\n",
       " 'CITIZEN IDENTITY CARD',\n",
       " '',\n",
       " '219501007-11101-00001-26',\n",
       " '',\n",
       " 'JINA LA KWANZA: JAKAYA',\n",
       " '= First Name',\n",
       " '',\n",
       " 'LU MAINA YA KAT. MRISHO-',\n",
       " 'OL Middle Name',\n",
       " '',\n",
       " 'D wa camwso: KIKWETE',\n",
       " 'Last Name',\n",
       " '',\n",
       " 'JINSI: M',\n",
       " 'Sex',\n",
       " '',\n",
       " 'MWISHO WA MATUMIZI: 07 FEB 2023',\n",
       " 'Expiry Date',\n",
       " '']"
      ]
     },
     "execution_count": 2,
     "metadata": {},
     "output_type": "execute_result"
    }
   ],
   "source": [
    "extracted_text.splitlines()"
   ]
  },
  {
   "cell_type": "code",
   "execution_count": 3,
   "id": "b61603a5",
   "metadata": {},
   "outputs": [
    {
     "data": {
      "text/html": [
       "<div>\n",
       "<style scoped>\n",
       "    .dataframe tbody tr th:only-of-type {\n",
       "        vertical-align: middle;\n",
       "    }\n",
       "\n",
       "    .dataframe tbody tr th {\n",
       "        vertical-align: top;\n",
       "    }\n",
       "\n",
       "    .dataframe thead th {\n",
       "        text-align: right;\n",
       "    }\n",
       "</style>\n",
       "<table border=\"1\" class=\"dataframe\">\n",
       "  <thead>\n",
       "    <tr style=\"text-align: right;\">\n",
       "      <th></th>\n",
       "      <th>Country</th>\n",
       "      <th>Name</th>\n",
       "      <th>ID</th>\n",
       "      <th>Gender</th>\n",
       "    </tr>\n",
       "  </thead>\n",
       "  <tbody>\n",
       "    <tr>\n",
       "      <th>0</th>\n",
       "      <td>Country</td>\n",
       "      <td>Name</td>\n",
       "      <td>ID</td>\n",
       "      <td>Gender</td>\n",
       "    </tr>\n",
       "    <tr>\n",
       "      <th>1</th>\n",
       "      <td>JAMHURI YA MUUNGANO WA TANZANIA</td>\n",
       "      <td>.° THE UNITED REPUBLIC OF TANZANIA</td>\n",
       "      <td>JINA LA KWANZA: JAKAYA</td>\n",
       "      <td></td>\n",
       "    </tr>\n",
       "  </tbody>\n",
       "</table>\n",
       "</div>"
      ],
      "text/plain": [
       "                           Country                                Name  \\\n",
       "0                          Country                                Name   \n",
       "1  JAMHURI YA MUUNGANO WA TANZANIA  .° THE UNITED REPUBLIC OF TANZANIA   \n",
       "\n",
       "                       ID  Gender  \n",
       "0                      ID  Gender  \n",
       "1  JINA LA KWANZA: JAKAYA          "
      ]
     },
     "execution_count": 3,
     "metadata": {},
     "output_type": "execute_result"
    }
   ],
   "source": [
    "columns_lst = [[\"Country\", \"Name\", \"ID\", \"Gender\"],\n",
    "               [extracted_text.splitlines()[0], extracted_text.splitlines()[2], extracted_text.splitlines()[7], extracted_text.splitlines()[21]]]\n",
    "\n",
    "df = pd.DataFrame(columns_lst, columns=[\"Country\", \"Name\", \"ID\", \"Gender\"])\n",
    "df "
   ]
  },
  {
   "cell_type": "code",
   "execution_count": null,
   "id": "c972686e",
   "metadata": {},
   "outputs": [],
   "source": []
  }
 ],
 "metadata": {
  "kernelspec": {
   "display_name": "Python 3 (ipykernel)",
   "language": "python",
   "name": "python3"
  },
  "language_info": {
   "codemirror_mode": {
    "name": "ipython",
    "version": 3
   },
   "file_extension": ".py",
   "mimetype": "text/x-python",
   "name": "python",
   "nbconvert_exporter": "python",
   "pygments_lexer": "ipython3",
   "version": "3.11.5"
  }
 },
 "nbformat": 4,
 "nbformat_minor": 5
}
